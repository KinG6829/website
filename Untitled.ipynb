{
  "nbformat": 4,
  "nbformat_minor": 0,
  "metadata": {
    "colab": {
      "provenance": [],
      "authorship_tag": "ABX9TyMglCu2xSCDtF8N69fTp3q5",
      "include_colab_link": true
    },
    "kernelspec": {
      "name": "python3",
      "display_name": "Python 3"
    },
    "language_info": {
      "name": "python"
    }
  },
  "cells": [
    {
      "cell_type": "markdown",
      "metadata": {
        "id": "view-in-github",
        "colab_type": "text"
      },
      "source": [
        "<a href=\"https://colab.research.google.com/github/KinG6829/website/blob/main/Untitled.ipynb\" target=\"_parent\"><img src=\"https://colab.research.google.com/assets/colab-badge.svg\" alt=\"Open In Colab\"/></a>"
      ]
    },
    {
      "cell_type": "code",
      "execution_count": null,
      "metadata": {
        "id": "NzXsGzg5WEBv"
      },
      "outputs": [],
      "source": [
        "class MyAtm:\n",
        "\n",
        "   def __init__ (self):\n",
        "    self.pin =' '\n",
        "    self.balance =0\n",
        "    self.menu()\n",
        "\n",
        "   def menu(self):\n",
        "    user_input = input(\"\"\"\n",
        "    Hi how can i help you\n",
        "    press 1 to create pin\n",
        "    press 2 to change pin\n",
        "    press 3 to check balance\n",
        "    press 4 to withdraw\n",
        "    press 5 to exist\n",
        "    \"\"\")\n",
        "    if user_input =='1':\n",
        "      user_pin = input('Enter your pin')\n",
        "      self.pin=user_input\n",
        "      return(self.menu())\n",
        "\n",
        "    elif user_input=='2':\n",
        "      user_pin= input('Enter your new pin')\n",
        "      if user_pin == self.pin:\n",
        "        print(\"try another pin\")\n",
        "      else:\n",
        "        self.pin = user_pin\n",
        "      return(self.menu())\n",
        "\n",
        "    elif user_input=='3':\n",
        "      print('your bank balance is' ,self.balance)\n",
        "      return(self.menu())\n",
        "\n",
        "    elif user_input=='4':\n",
        "      input('enter the amount')\n",
        "      user_input = input(\"enter your pin\")\n",
        "      if user_input==self.pin:\n",
        "          print(\"withdraw successfully\")\n",
        "      return(self.menu())\n",
        "\n",
        "    else:\n",
        "      exit()"
      ]
    },
    {
      "cell_type": "code",
      "source": [
        "obj =MyAtm()"
      ],
      "metadata": {
        "colab": {
          "base_uri": "https://localhost:8080/"
        },
        "id": "qhlzC6l3XNP8",
        "outputId": "a5b5dead-dc63-4bf8-d363-3fb63215bb25"
      },
      "execution_count": null,
      "outputs": [
        {
          "name": "stdout",
          "output_type": "stream",
          "text": [
            "\n",
            "    Hi how can i help you\n",
            "    press 1 to create pin\n",
            "    press 2 to change pin\n",
            "    press 3 to check balance\n",
            "    press 4 to withdraw\n",
            "    press 5 to exist\n",
            "    1\n",
            "Enter your pin834247\n",
            "\n",
            "    Hi how can i help you\n",
            "    press 1 to create pin\n",
            "    press 2 to change pin\n",
            "    press 3 to check balance\n",
            "    press 4 to withdraw\n",
            "    press 5 to exist\n",
            "    2\n",
            "Enter your new pin834247\n"
          ]
        }
      ]
    },
    {
      "cell_type": "code",
      "source": [],
      "metadata": {
        "id": "U7fXk3HhXVyW"
      },
      "execution_count": null,
      "outputs": []
    }
  ]
}